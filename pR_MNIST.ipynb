{
  "nbformat": 4,
  "nbformat_minor": 0,
  "metadata": {
    "colab": {
      "provenance": [],
      "gpuType": "T4"
    },
    "kernelspec": {
      "name": "python3",
      "display_name": "Python 3"
    },
    "language_info": {
      "name": "python"
    },
    "accelerator": "GPU"
  },
  "cells": [
    {
      "cell_type": "code",
      "execution_count": 1,
      "metadata": {
        "id": "az0jtBuv0gUJ"
      },
      "outputs": [],
      "source": [
        "import numpy as np\n",
        "import matplotlib.pyplot as plt\n",
        "from sklearn.model_selection import train_test_split\n",
        "from sklearn.preprocessing import PolynomialFeatures, StandardScaler\n",
        "from sklearn.linear_model import Lasso\n",
        "from sklearn.metrics import accuracy_score, classification_report, confusion_matrix\n",
        "from tensorflow.keras.datasets import mnist\n",
        "from sklearn.utils import shuffle\n",
        "from skimage.transform import resize"
      ]
    },
    {
      "cell_type": "code",
      "source": [
        "# Load MNIST dataset\n",
        "(X, y), (X_test, y_test) = mnist.load_data()"
      ],
      "metadata": {
        "colab": {
          "base_uri": "https://localhost:8080/"
        },
        "id": "fKHkNizP0nmW",
        "outputId": "65f57631-bdf3-4304-e12e-d1f4de3645a9"
      },
      "execution_count": 2,
      "outputs": [
        {
          "output_type": "stream",
          "name": "stdout",
          "text": [
            "Downloading data from https://storage.googleapis.com/tensorflow/tf-keras-datasets/mnist.npz\n",
            "\u001b[1m11490434/11490434\u001b[0m \u001b[32m━━━━━━━━━━━━━━━━━━━━\u001b[0m\u001b[37m\u001b[0m \u001b[1m0s\u001b[0m 0us/step\n"
          ]
        }
      ]
    },
    {
      "cell_type": "code",
      "source": [
        "#Reduce size to make it a \"reduced MNIST\"\n",
        "# Resize from 28x28 to 14x14\n",
        "X_resized = np.array([resize(img, (14, 14), anti_aliasing=True) for img in X])\n",
        "X_test_resized = np.array([resize(img, (14, 14), anti_aliasing=True) for img in X_test])"
      ],
      "metadata": {
        "id": "FIfsmVQN1M-J"
      },
      "execution_count": 3,
      "outputs": []
    },
    {
      "cell_type": "code",
      "source": [
        "# Flatten the images\n",
        "X_flat = X_resized.reshape(X_resized.shape[0], -1)\n",
        "X_test_flat = X_test_resized.reshape(X_test_resized.shape[0], -1)"
      ],
      "metadata": {
        "id": "lJYNOGfb1fZJ"
      },
      "execution_count": 4,
      "outputs": []
    },
    {
      "cell_type": "code",
      "source": [
        "# Use only a subset of data (reduce to 10000 samples)\n",
        "X_flat, y = shuffle(X_flat, y, random_state=42)\n",
        "X_subset = X_flat[:10000]\n",
        "y_subset = y[:10000]"
      ],
      "metadata": {
        "id": "w4mGwjKp1ihT"
      },
      "execution_count": 5,
      "outputs": []
    },
    {
      "cell_type": "code",
      "source": [
        "# Train-test split\n",
        "X_train, X_valid, y_train, y_valid = train_test_split(X_subset, y_subset, test_size=0.2, random_state=42)"
      ],
      "metadata": {
        "id": "1U-oSjIq1k-B"
      },
      "execution_count": 6,
      "outputs": []
    },
    {
      "cell_type": "code",
      "source": [
        "# Polynomial Features\n",
        "degree = 2\n",
        "pR = PolynomialFeatures(degree=degree, include_bias=False)\n",
        "X_train_pR = pR.fit_transform(X_train)\n",
        "X_valid_pR = pR.transform(X_valid)"
      ],
      "metadata": {
        "id": "gw420pyM1ni8"
      },
      "execution_count": 7,
      "outputs": []
    },
    {
      "cell_type": "code",
      "source": [
        "# Scaling\n",
        "scaler = StandardScaler()\n",
        "X_train_scaled = scaler.fit_transform(X_train_pR)\n",
        "X_valid_scaled = scaler.transform(X_valid_pR)"
      ],
      "metadata": {
        "id": "nqR5qbgu1q69"
      },
      "execution_count": 8,
      "outputs": []
    },
    {
      "cell_type": "code",
      "source": [
        "# Train Lasso model\n",
        "model = Lasso(alpha=0.001, max_iter=10000)\n",
        "model.fit(X_train_scaled, y_train)"
      ],
      "metadata": {
        "id": "c0Yy_6GY1ve9"
      },
      "execution_count": null,
      "outputs": []
    },
    {
      "cell_type": "code",
      "source": [
        "# Round and clip to valid classes\n",
        "y_pred_class = np.clip(np.round(y_pred_float), 0, 9).astype(int)"
      ],
      "metadata": {
        "id": "2mNJGA2x1yDb"
      },
      "execution_count": null,
      "outputs": []
    },
    {
      "cell_type": "code",
      "source": [
        "# Evaluation\n",
        "accuracy = accuracy_score(y_valid, y_pred_class)\n",
        "print(f\"🎯 Accuracy: {accuracy * 100:.2f}%\\n\")\n",
        "print(\"📄 Classification Report:\")\n",
        "print(classification_report(y_valid, y_pred_class))\n",
        "print(\"📊 Confusion Matrix:\")\n",
        "print(confusion_matrix(y_valid, y_pred_class))"
      ],
      "metadata": {
        "id": "6uGUG37e12cg"
      },
      "execution_count": null,
      "outputs": []
    },
    {
      "cell_type": "code",
      "source": [
        "# Visualization\n",
        "def visualize_predictions(X, y_true, y_pred, n=10):\n",
        "    plt.figure(figsize=(12, 4))\n",
        "    for i in range(n):\n",
        "        plt.subplot(1, n, i + 1)\n",
        "        plt.imshow(X[i], cmap='gray')\n",
        "        plt.title(f\"T:{y_true[i]}\\nP:{y_pred[i]}\", color='green' if y_true[i] == y_pred[i] else 'red')\n",
        "        plt.axis('off')\n",
        "    plt.tight_layout()\n",
        "    plt.show()"
      ],
      "metadata": {
        "id": "p0FQgKwC5Jr5"
      },
      "execution_count": null,
      "outputs": []
    },
    {
      "cell_type": "code",
      "source": [
        "visualize_predictions(X_valid.reshape(-1, 14, 14), y_valid, y_pred_class)"
      ],
      "metadata": {
        "id": "CgTU4Lef5MXU"
      },
      "execution_count": null,
      "outputs": []
    },
    {
      "cell_type": "code",
      "source": [],
      "metadata": {
        "id": "kruy2z3mIAmw"
      },
      "execution_count": null,
      "outputs": []
    }
  ]
}